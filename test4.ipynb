{
 "cells": [
  {
   "cell_type": "code",
   "execution_count": 1,
   "metadata": {},
   "outputs": [],
   "source": [
    "import random\n",
    "import pandas as pd\n",
    "import numpy as np\n",
    "import sklearn\n",
    "import matplotlib.pyplot as plt"
   ]
  },
  {
   "cell_type": "code",
   "execution_count": 2,
   "metadata": {},
   "outputs": [],
   "source": [
    "dataset = pd.read_csv(\"annotationRecords1.csv\")"
   ]
  },
  {
   "cell_type": "code",
   "execution_count": 3,
   "metadata": {},
   "outputs": [],
   "source": [
    "pred_probs_df = pd.read_csv(\"probs.csv\")"
   ]
  },
  {
   "cell_type": "code",
   "execution_count": 4,
   "metadata": {},
   "outputs": [],
   "source": [
    "labels_df = pd.read_csv(\"labels.csv\")"
   ]
  },
  {
   "cell_type": "code",
   "execution_count": 5,
   "metadata": {},
   "outputs": [],
   "source": [
    "#get image name from path\n",
    "pred_probs_df['image_name'] = pred_probs_df['path'].apply(lambda x: x.split('/')[-1])"
   ]
  },
  {
   "cell_type": "code",
   "execution_count": 6,
   "metadata": {},
   "outputs": [],
   "source": [
    "labels_df=pd.read_csv(\"labels.csv\")"
   ]
  },
  {
   "cell_type": "code",
   "execution_count": 7,
   "metadata": {},
   "outputs": [],
   "source": [
    "#get image name from path\n",
    "labels_df['image_name'] = labels_df['path'].apply(lambda x: x.split('/')[-1])"
   ]
  },
  {
   "cell_type": "code",
   "execution_count": 8,
   "metadata": {},
   "outputs": [],
   "source": [
    "for index, row in labels_df.iterrows():\n",
    "    labels_df.at[index, :] = row.replace(-1, 0)"
   ]
  },
  {
   "cell_type": "code",
   "execution_count": 9,
   "metadata": {},
   "outputs": [],
   "source": [
    "df1 = dataset[dataset['image_name'].isin(pred_probs_df['image_name'])]\n",
    "df1=df1.drop(columns=['comments','_id','date','end_time', 'filepath','start_time', 'time_in_seconds','no_particular_expression',\n",
    "'patientID', 'smile', 'start_time', 'time_in_seconds','wrinkled_forehead', 'unclear'])"
   ]
  },
  {
   "cell_type": "code",
   "execution_count": 10,
   "metadata": {},
   "outputs": [],
   "source": [
    "#renaming columns for consistency\n",
    "name_map={'au10_raising_of_upper_lip':'AU10',\n",
    "       'au12_pulling_at_corner_lip':'AU12', 'au20_lip_stretcher':'AU20', 'au24_lip_presser':'AU24',\n",
    "       'au25_parting_lips':'AU25', 'au26_jaw_drop':'AU26', 'au27_mouth_stretch':'AU27',\n",
    "       'au43_eyes_closed':'AU43', 'au4_brow_lowering':'AU4', 'au6_cheek_raising':'AU6',\n",
    "       'au7_tightning_of_eyelids':'AU7', 'au9_wrinkling_of_nose':'AU9'}\n",
    "df1.rename(columns=name_map, inplace=True)"
   ]
  },
  {
   "cell_type": "code",
   "execution_count": 11,
   "metadata": {},
   "outputs": [
    {
     "data": {
      "text/html": [
       "<div>\n",
       "<style scoped>\n",
       "    .dataframe tbody tr th:only-of-type {\n",
       "        vertical-align: middle;\n",
       "    }\n",
       "\n",
       "    .dataframe tbody tr th {\n",
       "        vertical-align: top;\n",
       "    }\n",
       "\n",
       "    .dataframe thead th {\n",
       "        text-align: right;\n",
       "    }\n",
       "</style>\n",
       "<table border=\"1\" class=\"dataframe\">\n",
       "  <thead>\n",
       "    <tr style=\"text-align: right;\">\n",
       "      <th></th>\n",
       "      <th>image_name</th>\n",
       "      <th>annotator</th>\n",
       "      <th>AU10</th>\n",
       "      <th>AU12</th>\n",
       "      <th>AU20</th>\n",
       "      <th>AU24</th>\n",
       "      <th>AU25</th>\n",
       "      <th>AU26</th>\n",
       "      <th>AU27</th>\n",
       "      <th>AU43</th>\n",
       "      <th>AU4</th>\n",
       "      <th>AU6</th>\n",
       "      <th>AU7</th>\n",
       "      <th>AU9</th>\n",
       "    </tr>\n",
       "  </thead>\n",
       "  <tbody>\n",
       "    <tr>\n",
       "      <th>0</th>\n",
       "      <td>2021-06-23 12-17-44_000000000593.jpg</td>\n",
       "      <td>babatundeshofolu</td>\n",
       "      <td>0</td>\n",
       "      <td>0</td>\n",
       "      <td>0</td>\n",
       "      <td>0</td>\n",
       "      <td>0</td>\n",
       "      <td>0</td>\n",
       "      <td>0</td>\n",
       "      <td>0</td>\n",
       "      <td>0</td>\n",
       "      <td>0</td>\n",
       "      <td>0</td>\n",
       "      <td>0</td>\n",
       "    </tr>\n",
       "    <tr>\n",
       "      <th>1</th>\n",
       "      <td>2021-06-23 12-17-44_000000000593.jpg</td>\n",
       "      <td>hannahweisman</td>\n",
       "      <td>0</td>\n",
       "      <td>0</td>\n",
       "      <td>0</td>\n",
       "      <td>0</td>\n",
       "      <td>0</td>\n",
       "      <td>0</td>\n",
       "      <td>0</td>\n",
       "      <td>0</td>\n",
       "      <td>0</td>\n",
       "      <td>0</td>\n",
       "      <td>0</td>\n",
       "      <td>0</td>\n",
       "    </tr>\n",
       "    <tr>\n",
       "      <th>2</th>\n",
       "      <td>2021-06-23 12-17-44_000000000593.jpg</td>\n",
       "      <td>jennifer.noa</td>\n",
       "      <td>0</td>\n",
       "      <td>0</td>\n",
       "      <td>0</td>\n",
       "      <td>0</td>\n",
       "      <td>0</td>\n",
       "      <td>0</td>\n",
       "      <td>0</td>\n",
       "      <td>0</td>\n",
       "      <td>0</td>\n",
       "      <td>0</td>\n",
       "      <td>0</td>\n",
       "      <td>0</td>\n",
       "    </tr>\n",
       "    <tr>\n",
       "      <th>3</th>\n",
       "      <td>2021-06-23 12-17-44_000000000593.jpg</td>\n",
       "      <td>rishika.patel@ufl.edu\\health</td>\n",
       "      <td>0</td>\n",
       "      <td>0</td>\n",
       "      <td>0</td>\n",
       "      <td>0</td>\n",
       "      <td>0</td>\n",
       "      <td>0</td>\n",
       "      <td>0</td>\n",
       "      <td>0</td>\n",
       "      <td>0</td>\n",
       "      <td>0</td>\n",
       "      <td>0</td>\n",
       "      <td>0</td>\n",
       "    </tr>\n",
       "    <tr>\n",
       "      <th>4</th>\n",
       "      <td>2021-06-23 12-17-44_000000000662.jpg</td>\n",
       "      <td>babatundeshofolu</td>\n",
       "      <td>0</td>\n",
       "      <td>0</td>\n",
       "      <td>0</td>\n",
       "      <td>0</td>\n",
       "      <td>0</td>\n",
       "      <td>0</td>\n",
       "      <td>0</td>\n",
       "      <td>0</td>\n",
       "      <td>0</td>\n",
       "      <td>0</td>\n",
       "      <td>0</td>\n",
       "      <td>0</td>\n",
       "    </tr>\n",
       "    <tr>\n",
       "      <th>...</th>\n",
       "      <td>...</td>\n",
       "      <td>...</td>\n",
       "      <td>...</td>\n",
       "      <td>...</td>\n",
       "      <td>...</td>\n",
       "      <td>...</td>\n",
       "      <td>...</td>\n",
       "      <td>...</td>\n",
       "      <td>...</td>\n",
       "      <td>...</td>\n",
       "      <td>...</td>\n",
       "      <td>...</td>\n",
       "      <td>...</td>\n",
       "      <td>...</td>\n",
       "    </tr>\n",
       "    <tr>\n",
       "      <th>24726</th>\n",
       "      <td>2022-03-30 17-14-24_000000001763.jpg</td>\n",
       "      <td>aribahali</td>\n",
       "      <td>0</td>\n",
       "      <td>0</td>\n",
       "      <td>0</td>\n",
       "      <td>0</td>\n",
       "      <td>1</td>\n",
       "      <td>0</td>\n",
       "      <td>0</td>\n",
       "      <td>0</td>\n",
       "      <td>0</td>\n",
       "      <td>0</td>\n",
       "      <td>0</td>\n",
       "      <td>0</td>\n",
       "    </tr>\n",
       "    <tr>\n",
       "      <th>24727</th>\n",
       "      <td>2022-03-30 17-14-24_000000001764.jpg</td>\n",
       "      <td>aribahali</td>\n",
       "      <td>0</td>\n",
       "      <td>0</td>\n",
       "      <td>0</td>\n",
       "      <td>0</td>\n",
       "      <td>0</td>\n",
       "      <td>1</td>\n",
       "      <td>0</td>\n",
       "      <td>0</td>\n",
       "      <td>0</td>\n",
       "      <td>0</td>\n",
       "      <td>0</td>\n",
       "      <td>0</td>\n",
       "    </tr>\n",
       "    <tr>\n",
       "      <th>24728</th>\n",
       "      <td>2022-03-30 17-14-24_000000001765.jpg</td>\n",
       "      <td>aribahali</td>\n",
       "      <td>0</td>\n",
       "      <td>0</td>\n",
       "      <td>0</td>\n",
       "      <td>0</td>\n",
       "      <td>0</td>\n",
       "      <td>1</td>\n",
       "      <td>0</td>\n",
       "      <td>0</td>\n",
       "      <td>0</td>\n",
       "      <td>0</td>\n",
       "      <td>0</td>\n",
       "      <td>0</td>\n",
       "    </tr>\n",
       "    <tr>\n",
       "      <th>24729</th>\n",
       "      <td>2022-03-30 17-14-24_000000001767.jpg</td>\n",
       "      <td>aribahali</td>\n",
       "      <td>0</td>\n",
       "      <td>0</td>\n",
       "      <td>0</td>\n",
       "      <td>0</td>\n",
       "      <td>1</td>\n",
       "      <td>0</td>\n",
       "      <td>0</td>\n",
       "      <td>0</td>\n",
       "      <td>0</td>\n",
       "      <td>0</td>\n",
       "      <td>0</td>\n",
       "      <td>0</td>\n",
       "    </tr>\n",
       "    <tr>\n",
       "      <th>24730</th>\n",
       "      <td>2022-03-30 17-14-24_000000001768.jpg</td>\n",
       "      <td>aribahali</td>\n",
       "      <td>0</td>\n",
       "      <td>0</td>\n",
       "      <td>0</td>\n",
       "      <td>0</td>\n",
       "      <td>0</td>\n",
       "      <td>1</td>\n",
       "      <td>0</td>\n",
       "      <td>0</td>\n",
       "      <td>0</td>\n",
       "      <td>0</td>\n",
       "      <td>0</td>\n",
       "      <td>0</td>\n",
       "    </tr>\n",
       "  </tbody>\n",
       "</table>\n",
       "<p>24731 rows × 14 columns</p>\n",
       "</div>"
      ],
      "text/plain": [
       "                                 image_name                     annotator  \\\n",
       "0      2021-06-23 12-17-44_000000000593.jpg              babatundeshofolu   \n",
       "1      2021-06-23 12-17-44_000000000593.jpg                 hannahweisman   \n",
       "2      2021-06-23 12-17-44_000000000593.jpg                  jennifer.noa   \n",
       "3      2021-06-23 12-17-44_000000000593.jpg  rishika.patel@ufl.edu\\health   \n",
       "4      2021-06-23 12-17-44_000000000662.jpg              babatundeshofolu   \n",
       "...                                     ...                           ...   \n",
       "24726  2022-03-30 17-14-24_000000001763.jpg                     aribahali   \n",
       "24727  2022-03-30 17-14-24_000000001764.jpg                     aribahali   \n",
       "24728  2022-03-30 17-14-24_000000001765.jpg                     aribahali   \n",
       "24729  2022-03-30 17-14-24_000000001767.jpg                     aribahali   \n",
       "24730  2022-03-30 17-14-24_000000001768.jpg                     aribahali   \n",
       "\n",
       "       AU10  AU12  AU20  AU24  AU25  AU26  AU27  AU43  AU4  AU6  AU7  AU9  \n",
       "0         0     0     0     0     0     0     0     0    0    0    0    0  \n",
       "1         0     0     0     0     0     0     0     0    0    0    0    0  \n",
       "2         0     0     0     0     0     0     0     0    0    0    0    0  \n",
       "3         0     0     0     0     0     0     0     0    0    0    0    0  \n",
       "4         0     0     0     0     0     0     0     0    0    0    0    0  \n",
       "...     ...   ...   ...   ...   ...   ...   ...   ...  ...  ...  ...  ...  \n",
       "24726     0     0     0     0     1     0     0     0    0    0    0    0  \n",
       "24727     0     0     0     0     0     1     0     0    0    0    0    0  \n",
       "24728     0     0     0     0     0     1     0     0    0    0    0    0  \n",
       "24729     0     0     0     0     1     0     0     0    0    0    0    0  \n",
       "24730     0     0     0     0     0     1     0     0    0    0    0    0  \n",
       "\n",
       "[24731 rows x 14 columns]"
      ]
     },
     "execution_count": 11,
     "metadata": {},
     "output_type": "execute_result"
    }
   ],
   "source": [
    "#grouping by image_name\n",
    "grouped_df = df1.groupby(['image_name','annotator'], as_index=False).first()\n",
    "grouped_df"
   ]
  },
  {
   "cell_type": "code",
   "execution_count": 12,
   "metadata": {},
   "outputs": [
    {
     "name": "stdout",
     "output_type": "stream",
     "text": [
      "hannahweisman                   11734\n",
      "rishika.patel@ufl.edu\\health     5647\n",
      "jennifer.noa                     3321\n",
      "babatundeshofolu                 3097\n",
      "aribahali                         848\n",
      "ezequielbautista                   39\n",
      "kaelynnrodriguez                   33\n",
      "kmaisuria                           6\n",
      "wkratochvil                         6\n",
      "Name: annotator, dtype: int64\n"
     ]
    }
   ],
   "source": [
    "annotator_counts = grouped_df['annotator'].value_counts()\n",
    "print(annotator_counts)"
   ]
  },
  {
   "cell_type": "code",
   "execution_count": 13,
   "metadata": {},
   "outputs": [
    {
     "data": {
      "image/png": "[encoded data removed]",
      "text/plain": [
       "<Figure size 720x432 with 1 Axes>"
      ]
     },
     "metadata": {
      "needs_background": "light"
     },
     "output_type": "display_data"
    }
   ],
   "source": [
    "import matplotlib.pyplot as plt\n",
    "plt.figure(figsize=(10, 6)) \n",
    "plt.bar(annotator_counts.index, annotator_counts.values, color='skyblue', width=0.5)  \n",
    "plt.title('', fontsize=16)  \n",
    "plt.xlabel('Annotators', fontsize=14)  \n",
    "plt.ylabel('Images annotated', fontsize=14)  \n",
    "plt.xticks(fontsize=12, rotation=45, ha='right')  # Adjust x-axis tick font size and rotation for better readability\n",
    "plt.show()"
   ]
  },
  {
   "cell_type": "code",
   "execution_count": 14,
   "metadata": {},
   "outputs": [],
   "source": [
    "labels_df=labels_df.drop(columns=['dataset','path','AU1','AU2', 'AU14','AU15', 'AU17','AU23'])"
   ]
  },
  {
   "cell_type": "code",
   "execution_count": 15,
   "metadata": {},
   "outputs": [],
   "source": [
    "order_mapping = {value: index for index, value in enumerate(labels_df['image_name'])}\n",
    "grouped_df['order'] = grouped_df['image_name'].map(order_mapping)"
   ]
  },
  {
   "cell_type": "code",
   "execution_count": 16,
   "metadata": {},
   "outputs": [],
   "source": [
    "grouped_df = grouped_df.sort_values(by='order').drop(columns='order')"
   ]
  },
  {
   "cell_type": "code",
   "execution_count": 17,
   "metadata": {},
   "outputs": [
    {
     "data": {
      "text/plain": [
       "Index(['image_name', 'annotator', 'AU10', 'AU12', 'AU20', 'AU24', 'AU25',\n",
       "       'AU26', 'AU27', 'AU43', 'AU4', 'AU6', 'AU7', 'AU9'],\n",
       "      dtype='object')"
      ]
     },
     "execution_count": 17,
     "metadata": {},
     "output_type": "execute_result"
    }
   ],
   "source": [
    "grouped_df.columns"
   ]
  },
  {
   "cell_type": "code",
   "execution_count": 18,
   "metadata": {},
   "outputs": [],
   "source": [
    "df = grouped_df\n",
    "annotators = df['annotator'].unique()\n",
    "labels = df.columns[2:]"
   ]
  },
  {
   "cell_type": "code",
   "execution_count": 19,
   "metadata": {},
   "outputs": [],
   "source": [
    "labels_df=labels_df.drop(columns=['AU10', 'AU12', 'AU20', 'AU24', 'AU25', 'AU26', 'AU27', 'AU43','AU7', 'AU9'])"
   ]
  },
  {
   "cell_type": "code",
   "execution_count": 20,
   "metadata": {},
   "outputs": [],
   "source": [
    "df=df.drop(columns=['AU10', 'AU12', 'AU20', 'AU24', 'AU25', 'AU26', 'AU27', 'AU43','AU7', 'AU9'])"
   ]
  },
  {
   "cell_type": "code",
   "execution_count": 21,
   "metadata": {},
   "outputs": [
    {
     "data": {
      "text/html": [
       "<div>\n",
       "<style scoped>\n",
       "    .dataframe tbody tr th:only-of-type {\n",
       "        vertical-align: middle;\n",
       "    }\n",
       "\n",
       "    .dataframe tbody tr th {\n",
       "        vertical-align: top;\n",
       "    }\n",
       "\n",
       "    .dataframe thead th {\n",
       "        text-align: right;\n",
       "    }\n",
       "</style>\n",
       "<table border=\"1\" class=\"dataframe\">\n",
       "  <thead>\n",
       "    <tr style=\"text-align: right;\">\n",
       "      <th></th>\n",
       "      <th>image_name</th>\n",
       "      <th>annotator</th>\n",
       "      <th>AU4</th>\n",
       "      <th>AU6</th>\n",
       "    </tr>\n",
       "  </thead>\n",
       "  <tbody>\n",
       "    <tr>\n",
       "      <th>23783</th>\n",
       "      <td>2022-01-31 23-54-30_000000000007.jpg</td>\n",
       "      <td>wkratochvil</td>\n",
       "      <td>0</td>\n",
       "      <td>0</td>\n",
       "    </tr>\n",
       "    <tr>\n",
       "      <th>23782</th>\n",
       "      <td>2022-01-31 23-54-30_000000000007.jpg</td>\n",
       "      <td>kmaisuria</td>\n",
       "      <td>0</td>\n",
       "      <td>0</td>\n",
       "    </tr>\n",
       "    <tr>\n",
       "      <th>23781</th>\n",
       "      <td>2022-01-31 23-54-30_000000000007.jpg</td>\n",
       "      <td>hannahweisman</td>\n",
       "      <td>0</td>\n",
       "      <td>0</td>\n",
       "    </tr>\n",
       "    <tr>\n",
       "      <th>23780</th>\n",
       "      <td>2022-01-31 23-54-30_000000000007.jpg</td>\n",
       "      <td>ezequielbautista</td>\n",
       "      <td>0</td>\n",
       "      <td>0</td>\n",
       "    </tr>\n",
       "    <tr>\n",
       "      <th>23761</th>\n",
       "      <td>2022-01-28 05-31-32_000000000822.jpg</td>\n",
       "      <td>hannahweisman</td>\n",
       "      <td>0</td>\n",
       "      <td>0</td>\n",
       "    </tr>\n",
       "    <tr>\n",
       "      <th>...</th>\n",
       "      <td>...</td>\n",
       "      <td>...</td>\n",
       "      <td>...</td>\n",
       "      <td>...</td>\n",
       "    </tr>\n",
       "    <tr>\n",
       "      <th>23755</th>\n",
       "      <td>2021-11-12 09-46-12_000000000886.jpg</td>\n",
       "      <td>hannahweisman</td>\n",
       "      <td>0</td>\n",
       "      <td>0</td>\n",
       "    </tr>\n",
       "    <tr>\n",
       "      <th>23756</th>\n",
       "      <td>2021-11-12 09-46-12_000000000888.jpg</td>\n",
       "      <td>hannahweisman</td>\n",
       "      <td>0</td>\n",
       "      <td>0</td>\n",
       "    </tr>\n",
       "    <tr>\n",
       "      <th>23757</th>\n",
       "      <td>2021-11-12 09-46-12_000000000890.jpg</td>\n",
       "      <td>hannahweisman</td>\n",
       "      <td>0</td>\n",
       "      <td>0</td>\n",
       "    </tr>\n",
       "    <tr>\n",
       "      <th>23758</th>\n",
       "      <td>2021-11-12 09-46-12_000000000893.jpg</td>\n",
       "      <td>hannahweisman</td>\n",
       "      <td>0</td>\n",
       "      <td>0</td>\n",
       "    </tr>\n",
       "    <tr>\n",
       "      <th>23759</th>\n",
       "      <td>2021-11-12 09-46-12_000000000894.jpg</td>\n",
       "      <td>hannahweisman</td>\n",
       "      <td>0</td>\n",
       "      <td>0</td>\n",
       "    </tr>\n",
       "  </tbody>\n",
       "</table>\n",
       "<p>24731 rows × 4 columns</p>\n",
       "</div>"
      ],
      "text/plain": [
       "                                 image_name         annotator  AU4  AU6\n",
       "23783  2022-01-31 23-54-30_000000000007.jpg       wkratochvil    0    0\n",
       "23782  2022-01-31 23-54-30_000000000007.jpg         kmaisuria    0    0\n",
       "23781  2022-01-31 23-54-30_000000000007.jpg     hannahweisman    0    0\n",
       "23780  2022-01-31 23-54-30_000000000007.jpg  ezequielbautista    0    0\n",
       "23761  2022-01-28 05-31-32_000000000822.jpg     hannahweisman    0    0\n",
       "...                                     ...               ...  ...  ...\n",
       "23755  2021-11-12 09-46-12_000000000886.jpg     hannahweisman    0    0\n",
       "23756  2021-11-12 09-46-12_000000000888.jpg     hannahweisman    0    0\n",
       "23757  2021-11-12 09-46-12_000000000890.jpg     hannahweisman    0    0\n",
       "23758  2021-11-12 09-46-12_000000000893.jpg     hannahweisman    0    0\n",
       "23759  2021-11-12 09-46-12_000000000894.jpg     hannahweisman    0    0\n",
       "\n",
       "[24731 rows x 4 columns]"
      ]
     },
     "execution_count": 21,
     "metadata": {},
     "output_type": "execute_result"
    }
   ],
   "source": [
    "df"
   ]
  },
  {
   "cell_type": "code",
   "execution_count": 22,
   "metadata": {},
   "outputs": [],
   "source": [
    "annotators = df['annotator'].unique()\n",
    "classes = df.columns.difference(['image_name', 'annotator'])\n",
    "\n",
    "num_samples = len(df['image_name'].unique())\n",
    "num_annotators = len(annotators)\n",
    "num_classes = len(classes)\n",
    "labels_multiannotator = np.full((num_samples, num_annotators, num_classes), np.nan)\n",
    "\n",
    "for i, row in df.iterrows():\n",
    "    sample_idx = np.where(df['image_name'].unique() == row['image_name'])[0][0]\n",
    "    annotator_idx = np.where(annotators == row['annotator'])[0][0]\n",
    "    class_indices = [np.where(classes == col)[0][0] for col in classes]\n",
    "    labels_multiannotator[sample_idx, annotator_idx, class_indices] = row[classes].values"
   ]
  },
  {
   "cell_type": "code",
   "execution_count": 23,
   "metadata": {},
   "outputs": [
    {
     "data": {
      "text/plain": [
       "(12549, 9, 2)"
      ]
     },
     "execution_count": 23,
     "metadata": {},
     "output_type": "execute_result"
    }
   ],
   "source": [
    "labels_multiannotator.shape"
   ]
  },
  {
   "cell_type": "code",
   "execution_count": 24,
   "metadata": {},
   "outputs": [],
   "source": [
    "num_annotations = np.sum(~np.isnan(labels_multiannotator).any(axis=2), axis=1)"
   ]
  },
  {
   "cell_type": "code",
   "execution_count": 25,
   "metadata": {},
   "outputs": [
    {
     "data": {
      "text/plain": [
       "array([4, 4, 4, ..., 1, 1, 1])"
      ]
     },
     "execution_count": 25,
     "metadata": {},
     "output_type": "execute_result"
    }
   ],
   "source": [
    "num_annotations"
   ]
  },
  {
   "cell_type": "code",
   "execution_count": 26,
   "metadata": {},
   "outputs": [],
   "source": [
    "pred_prob = pred_probs_df[pred_probs_df['image_name'].isin(df['image_name'])]"
   ]
  },
  {
   "cell_type": "code",
   "execution_count": 27,
   "metadata": {},
   "outputs": [],
   "source": [
    "pred_prob=pred_prob.drop(columns=['dataset','path','AU1','AU2', 'AU14','AU15', 'AU17','AU23','AU10', 'AU12', 'AU20', 'AU24', 'AU25', 'AU26', 'AU27', 'AU43','AU7', 'AU9'])"
   ]
  },
  {
   "cell_type": "code",
   "execution_count": 28,
   "metadata": {},
   "outputs": [],
   "source": [
    "prob=pred_prob.drop(columns=['image_name'])"
   ]
  },
  {
   "cell_type": "code",
   "execution_count": 29,
   "metadata": {},
   "outputs": [],
   "source": [
    "pred_probs=prob.iloc[:, 0:].values"
   ]
  },
  {
   "cell_type": "code",
   "execution_count": 30,
   "metadata": {},
   "outputs": [
    {
     "data": {
      "text/plain": [
       "array([[3.1990088e-03, 6.4741727e-03],\n",
       "       [1.2081428e-01, 6.5904450e-02],\n",
       "       [1.2611853e-01, 9.0592000e-02],\n",
       "       ...,\n",
       "       [6.0590275e-04, 6.4965704e-04],\n",
       "       [9.5853200e-05, 9.1933210e-05],\n",
       "       [9.5853200e-05, 9.1933210e-05]])"
      ]
     },
     "execution_count": 30,
     "metadata": {},
     "output_type": "execute_result"
    }
   ],
   "source": [
    "pred_probs"
   ]
  },
  {
   "cell_type": "code",
   "execution_count": 38,
   "metadata": {},
   "outputs": [],
   "source": [
    "import multiannotators\n",
    "from multiannotators import get_label_quality_multiannotator"
   ]
  },
  {
   "cell_type": "code",
   "execution_count": 40,
   "metadata": {},
   "outputs": [
    {
     "data": {
      "text/plain": [
       "<module 'multiannotators' from '/home/keerthana/omops/multiannotators.py'>"
      ]
     },
     "execution_count": 40,
     "metadata": {},
     "output_type": "execute_result"
    }
   ],
   "source": [
    "import imp\n",
    "imp.reload(multiannotators)"
   ]
  },
  {
   "cell_type": "code",
   "execution_count": 41,
   "metadata": {},
   "outputs": [
    {
     "name": "stdout",
     "output_type": "stream",
     "text": [
      "hello\n",
      "call\n",
      "hi\n",
      "(12549, 2)\n",
      "(12549,)\n",
      "(12549, 2)\n"
     ]
    }
   ],
   "source": [
    "results=get_label_quality_multiannotator(labels_multiannotator,pred_probs,consensus_method = \"majority_vote\",quality_method = \"crowdlab\",verbose=False)"
   ]
  },
  {
   "cell_type": "code",
   "execution_count": 42,
   "metadata": {},
   "outputs": [
    {
     "data": {
      "text/html": [
       "<div>\n",
       "<style scoped>\n",
       "    .dataframe tbody tr th:only-of-type {\n",
       "        vertical-align: middle;\n",
       "    }\n",
       "\n",
       "    .dataframe tbody tr th {\n",
       "        vertical-align: top;\n",
       "    }\n",
       "\n",
       "    .dataframe thead th {\n",
       "        text-align: right;\n",
       "    }\n",
       "</style>\n",
       "<table border=\"1\" class=\"dataframe\">\n",
       "  <thead>\n",
       "    <tr style=\"text-align: right;\">\n",
       "      <th></th>\n",
       "      <th>num_annotations</th>\n",
       "      <th>consensus_label</th>\n",
       "      <th>annotator_agreement</th>\n",
       "      <th>consensus_quality_score</th>\n",
       "    </tr>\n",
       "  </thead>\n",
       "  <tbody>\n",
       "    <tr>\n",
       "      <th>0</th>\n",
       "      <td>4</td>\n",
       "      <td>[0, 0]</td>\n",
       "      <td>[1.0, 1.0]</td>\n",
       "      <td>0.994181</td>\n",
       "    </tr>\n",
       "    <tr>\n",
       "      <th>1</th>\n",
       "      <td>4</td>\n",
       "      <td>[0, 0]</td>\n",
       "      <td>[1.0, 1.0]</td>\n",
       "      <td>0.890168</td>\n",
       "    </tr>\n",
       "    <tr>\n",
       "      <th>2</th>\n",
       "      <td>4</td>\n",
       "      <td>[0, 0]</td>\n",
       "      <td>[1.0, 1.0]</td>\n",
       "      <td>0.880987</td>\n",
       "    </tr>\n",
       "    <tr>\n",
       "      <th>3</th>\n",
       "      <td>4</td>\n",
       "      <td>[0, 0]</td>\n",
       "      <td>[1.0, 1.0]</td>\n",
       "      <td>0.957386</td>\n",
       "    </tr>\n",
       "    <tr>\n",
       "      <th>4</th>\n",
       "      <td>4</td>\n",
       "      <td>[0, 0]</td>\n",
       "      <td>[1.0, 1.0]</td>\n",
       "      <td>0.998290</td>\n",
       "    </tr>\n",
       "    <tr>\n",
       "      <th>...</th>\n",
       "      <td>...</td>\n",
       "      <td>...</td>\n",
       "      <td>...</td>\n",
       "      <td>...</td>\n",
       "    </tr>\n",
       "    <tr>\n",
       "      <th>12544</th>\n",
       "      <td>1</td>\n",
       "      <td>[0, 0]</td>\n",
       "      <td>[1.0, 1.0]</td>\n",
       "      <td>0.999654</td>\n",
       "    </tr>\n",
       "    <tr>\n",
       "      <th>12545</th>\n",
       "      <td>1</td>\n",
       "      <td>[0, 0]</td>\n",
       "      <td>[1.0, 1.0]</td>\n",
       "      <td>0.999891</td>\n",
       "    </tr>\n",
       "    <tr>\n",
       "      <th>12546</th>\n",
       "      <td>1</td>\n",
       "      <td>[0, 0]</td>\n",
       "      <td>[1.0, 1.0]</td>\n",
       "      <td>0.999359</td>\n",
       "    </tr>\n",
       "    <tr>\n",
       "      <th>12547</th>\n",
       "      <td>1</td>\n",
       "      <td>[0, 0]</td>\n",
       "      <td>[1.0, 1.0]</td>\n",
       "      <td>0.999905</td>\n",
       "    </tr>\n",
       "    <tr>\n",
       "      <th>12548</th>\n",
       "      <td>1</td>\n",
       "      <td>[0, 0]</td>\n",
       "      <td>[1.0, 1.0]</td>\n",
       "      <td>0.999905</td>\n",
       "    </tr>\n",
       "  </tbody>\n",
       "</table>\n",
       "<p>12549 rows × 4 columns</p>\n",
       "</div>"
      ],
      "text/plain": [
       "       num_annotations consensus_label annotator_agreement  \\\n",
       "0                    4          [0, 0]          [1.0, 1.0]   \n",
       "1                    4          [0, 0]          [1.0, 1.0]   \n",
       "2                    4          [0, 0]          [1.0, 1.0]   \n",
       "3                    4          [0, 0]          [1.0, 1.0]   \n",
       "4                    4          [0, 0]          [1.0, 1.0]   \n",
       "...                ...             ...                 ...   \n",
       "12544                1          [0, 0]          [1.0, 1.0]   \n",
       "12545                1          [0, 0]          [1.0, 1.0]   \n",
       "12546                1          [0, 0]          [1.0, 1.0]   \n",
       "12547                1          [0, 0]          [1.0, 1.0]   \n",
       "12548                1          [0, 0]          [1.0, 1.0]   \n",
       "\n",
       "       consensus_quality_score  \n",
       "0                     0.994181  \n",
       "1                     0.890168  \n",
       "2                     0.880987  \n",
       "3                     0.957386  \n",
       "4                     0.998290  \n",
       "...                        ...  \n",
       "12544                 0.999654  \n",
       "12545                 0.999891  \n",
       "12546                 0.999359  \n",
       "12547                 0.999905  \n",
       "12548                 0.999905  \n",
       "\n",
       "[12549 rows x 4 columns]"
      ]
     },
     "execution_count": 42,
     "metadata": {},
     "output_type": "execute_result"
    }
   ],
   "source": [
    "results[\"label_quality\"]"
   ]
  }
 ],
 "metadata": {
  "kernelspec": {
   "display_name": "Python 3",
   "language": "python",
   "name": "python3"
  },
  "language_info": {
   "codemirror_mode": {
    "name": "ipython",
    "version": 3
   },
   "file_extension": ".py",
   "mimetype": "text/x-python",
   "name": "python",
   "nbconvert_exporter": "python",
   "pygments_lexer": "ipython3",
   "version": "3.8.10"
  }
 },
 "nbformat": 4,
 "nbformat_minor": 2
}
